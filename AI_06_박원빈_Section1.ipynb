{
  "nbformat": 4,
  "nbformat_minor": 0,
  "metadata": {
    "colab": {
      "name": "AI_06_박원빈_Section1.ipynb",
      "provenance": [],
      "collapsed_sections": []
    },
    "kernelspec": {
      "name": "python3",
      "display_name": "Python 3"
    },
    "language_info": {
      "name": "python"
    }
  },
  "cells": [
    {
      "cell_type": "code",
      "metadata": {
        "colab": {
          "base_uri": "https://localhost:8080/"
        },
        "id": "eaLkzkB9t25R",
        "outputId": "ad933e22-9b95-4e6c-9825-210cdb7d5178"
      },
      "source": [
        "!sudo apt-get install -y fonts-nanum\n",
        "!sudo fc-cache -fv\n",
        "!rm ~/.cache/matplotlib -rf"
      ],
      "execution_count": 2,
      "outputs": [
        {
          "output_type": "stream",
          "text": [
            "Reading package lists... Done\n",
            "Building dependency tree       \n",
            "Reading state information... Done\n",
            "The following NEW packages will be installed:\n",
            "  fonts-nanum\n",
            "0 upgraded, 1 newly installed, 0 to remove and 40 not upgraded.\n",
            "Need to get 9,604 kB of archives.\n",
            "After this operation, 29.5 MB of additional disk space will be used.\n",
            "Get:1 http://archive.ubuntu.com/ubuntu bionic/universe amd64 fonts-nanum all 20170925-1 [9,604 kB]\n",
            "Fetched 9,604 kB in 1s (10.1 MB/s)\n",
            "debconf: unable to initialize frontend: Dialog\n",
            "debconf: (No usable dialog-like program is installed, so the dialog based frontend cannot be used. at /usr/share/perl5/Debconf/FrontEnd/Dialog.pm line 76, <> line 1.)\n",
            "debconf: falling back to frontend: Readline\n",
            "debconf: unable to initialize frontend: Readline\n",
            "debconf: (This frontend requires a controlling tty.)\n",
            "debconf: falling back to frontend: Teletype\n",
            "dpkg-preconfigure: unable to re-open stdin: \n",
            "Selecting previously unselected package fonts-nanum.\n",
            "(Reading database ... 160837 files and directories currently installed.)\n",
            "Preparing to unpack .../fonts-nanum_20170925-1_all.deb ...\n",
            "Unpacking fonts-nanum (20170925-1) ...\n",
            "Setting up fonts-nanum (20170925-1) ...\n",
            "Processing triggers for fontconfig (2.12.6-0ubuntu2) ...\n",
            "/usr/share/fonts: caching, new cache contents: 0 fonts, 1 dirs\n",
            "/usr/share/fonts/truetype: caching, new cache contents: 0 fonts, 3 dirs\n",
            "/usr/share/fonts/truetype/humor-sans: caching, new cache contents: 1 fonts, 0 dirs\n",
            "/usr/share/fonts/truetype/liberation: caching, new cache contents: 16 fonts, 0 dirs\n",
            "/usr/share/fonts/truetype/nanum: caching, new cache contents: 10 fonts, 0 dirs\n",
            "/usr/local/share/fonts: caching, new cache contents: 0 fonts, 0 dirs\n",
            "/root/.local/share/fonts: skipping, no such directory\n",
            "/root/.fonts: skipping, no such directory\n",
            "/var/cache/fontconfig: cleaning cache directory\n",
            "/root/.cache/fontconfig: not cleaning non-existent cache directory\n",
            "/root/.fontconfig: not cleaning non-existent cache directory\n",
            "fc-cache: succeeded\n"
          ],
          "name": "stdout"
        }
      ]
    },
    {
      "cell_type": "code",
      "metadata": {
        "id": "ph3xCkwct-Zs"
      },
      "source": [
        "import matplotlib.pyplot as plt\n",
        "\n",
        "plt.rc('font', family='NanumBarunGothic') "
      ],
      "execution_count": 1,
      "outputs": []
    },
    {
      "cell_type": "markdown",
      "metadata": {
        "id": "yBbDd6fxHNtJ"
      },
      "source": [
        "### 라이브러리"
      ]
    },
    {
      "cell_type": "code",
      "metadata": {
        "id": "U4TdJrSxtt9M"
      },
      "source": [
        "import pandas as pd\n",
        "import numpy as np\n",
        "from scipy.stats import chi2_contingency\n",
        "from scipy.stats import chisquare\n",
        "import matplotlib.pyplot as plt\n",
        "import seaborn as sns"
      ],
      "execution_count": 2,
      "outputs": []
    },
    {
      "cell_type": "markdown",
      "metadata": {
        "id": "ys2D-eI9HYVV"
      },
      "source": [
        " ### 데이터 세트 불러오기"
      ]
    },
    {
      "cell_type": "code",
      "metadata": {
        "colab": {
          "base_uri": "https://localhost:8080/"
        },
        "id": "OGaR_c2dxpn0",
        "outputId": "16d34577-b4fe-4b53-9887-93b604b25afe"
      },
      "source": [
        "df = pd.read_csv('https://blog.kakaocdn.net/dn/dQwohr/btraDzfxxCn/C0eummSeMF4a7WIizJlRe1/vgames.csv?attach=1&knm=tfile.csv')\n",
        "df.drop('Unnamed: 0',axis=1, inplace=True)\n",
        "df.shape"
      ],
      "execution_count": 3,
      "outputs": [
        {
          "output_type": "execute_result",
          "data": {
            "text/plain": [
              "(16598, 9)"
            ]
          },
          "metadata": {
            "tags": []
          },
          "execution_count": 3
        }
      ]
    },
    {
      "cell_type": "markdown",
      "metadata": {
        "id": "ZuPn8ImBHeG3"
      },
      "source": [
        "### 데이터 **전처리**"
      ]
    },
    {
      "cell_type": "markdown",
      "metadata": {
        "id": "e9x8phI_2RuC"
      },
      "source": [
        "**'K'와 'M'삭제 및 단위 맞춤**"
      ]
    },
    {
      "cell_type": "code",
      "metadata": {
        "colab": {
          "base_uri": "https://localhost:8080/",
          "height": 142
        },
        "id": "2HJMCa2rt7br",
        "outputId": "7299fa93-1950-463d-93e7-5570cd41bdca"
      },
      "source": [
        "def value_to_float(x):\n",
        "\n",
        "    if 'K' in x:\n",
        "        if len(x) > 1:\n",
        "          return pd.to_numeric(x.replace('K', '')) / 1000\n",
        "        return 1000.0\n",
        "    if 'M' in x:\n",
        "      if len(x) > 1:\n",
        "        return pd.to_numeric(x.replace('M', ''))\n",
        "    if not ('K' or 'M') in x:\n",
        "       return x\n",
        "\n",
        "df['NA_Sales'] = df['NA_Sales'].apply(value_to_float)\n",
        "df['EU_Sales'] = df['EU_Sales'].apply(value_to_float)\n",
        "df['JP_Sales'] = df['JP_Sales'].apply(value_to_float)\n",
        "df['Other_Sales'] = df['Other_Sales'].apply(value_to_float)\n",
        "df.iloc[138:141]\n",
        "\n",
        "\n",
        "df.iloc[:,5:] = df.iloc[:,5:].astype(float)\n",
        "df.iloc[138:141]"
      ],
      "execution_count": 4,
      "outputs": [
        {
          "output_type": "execute_result",
          "data": {
            "text/html": [
              "<div>\n",
              "<style scoped>\n",
              "    .dataframe tbody tr th:only-of-type {\n",
              "        vertical-align: middle;\n",
              "    }\n",
              "\n",
              "    .dataframe tbody tr th {\n",
              "        vertical-align: top;\n",
              "    }\n",
              "\n",
              "    .dataframe thead th {\n",
              "        text-align: right;\n",
              "    }\n",
              "</style>\n",
              "<table border=\"1\" class=\"dataframe\">\n",
              "  <thead>\n",
              "    <tr style=\"text-align: right;\">\n",
              "      <th></th>\n",
              "      <th>Name</th>\n",
              "      <th>Platform</th>\n",
              "      <th>Year</th>\n",
              "      <th>Genre</th>\n",
              "      <th>Publisher</th>\n",
              "      <th>NA_Sales</th>\n",
              "      <th>EU_Sales</th>\n",
              "      <th>JP_Sales</th>\n",
              "      <th>Other_Sales</th>\n",
              "    </tr>\n",
              "  </thead>\n",
              "  <tbody>\n",
              "    <tr>\n",
              "      <th>138</th>\n",
              "      <td>Warriors Orochi 3</td>\n",
              "      <td>PS4</td>\n",
              "      <td>2014.0</td>\n",
              "      <td>Action</td>\n",
              "      <td>Tecmo Koei</td>\n",
              "      <td>0.04</td>\n",
              "      <td>0.05</td>\n",
              "      <td>0.04</td>\n",
              "      <td>0.02</td>\n",
              "    </tr>\n",
              "    <tr>\n",
              "      <th>139</th>\n",
              "      <td>The Incredibles: Rise of the Underminer</td>\n",
              "      <td>PS2</td>\n",
              "      <td>2005.0</td>\n",
              "      <td>Action</td>\n",
              "      <td>THQ</td>\n",
              "      <td>0.18</td>\n",
              "      <td>0.14</td>\n",
              "      <td>0.00</td>\n",
              "      <td>0.05</td>\n",
              "    </tr>\n",
              "    <tr>\n",
              "      <th>140</th>\n",
              "      <td>Looney Tunes: Galactic Sports</td>\n",
              "      <td>PSV</td>\n",
              "      <td>2015.0</td>\n",
              "      <td>Action</td>\n",
              "      <td>Sony Computer Entertainment</td>\n",
              "      <td>0.00</td>\n",
              "      <td>0.06</td>\n",
              "      <td>0.00</td>\n",
              "      <td>0.02</td>\n",
              "    </tr>\n",
              "  </tbody>\n",
              "</table>\n",
              "</div>"
            ],
            "text/plain": [
              "                                        Name Platform  ...  JP_Sales Other_Sales\n",
              "138                        Warriors Orochi 3      PS4  ...      0.04        0.02\n",
              "139  The Incredibles: Rise of the Underminer      PS2  ...      0.00        0.05\n",
              "140            Looney Tunes: Galactic Sports      PSV  ...      0.00        0.02\n",
              "\n",
              "[3 rows x 9 columns]"
            ]
          },
          "metadata": {
            "tags": []
          },
          "execution_count": 4
        }
      ]
    },
    {
      "cell_type": "markdown",
      "metadata": {
        "id": "QfAuSE7Q2fw3"
      },
      "source": [
        "**yy를 yyyy로 변경**"
      ]
    },
    {
      "cell_type": "code",
      "metadata": {
        "colab": {
          "base_uri": "https://localhost:8080/",
          "height": 111
        },
        "id": "geVske83_2Oa",
        "outputId": "8760a0c7-69b8-4cf9-a30b-78f2c5eb640f"
      },
      "source": [
        "year1 = pd.to_datetime(df['Year'], errors='coerce', format='%Y')\n",
        "year2 = pd.to_datetime(df['Year'], errors='coerce', format='%y')\n",
        "df['Year'] = year1.fillna(year2)\n",
        "df['Year']= df['Year'].dt.year\n",
        "df.iloc[81:83]"
      ],
      "execution_count": 5,
      "outputs": [
        {
          "output_type": "execute_result",
          "data": {
            "text/html": [
              "<div>\n",
              "<style scoped>\n",
              "    .dataframe tbody tr th:only-of-type {\n",
              "        vertical-align: middle;\n",
              "    }\n",
              "\n",
              "    .dataframe tbody tr th {\n",
              "        vertical-align: top;\n",
              "    }\n",
              "\n",
              "    .dataframe thead th {\n",
              "        text-align: right;\n",
              "    }\n",
              "</style>\n",
              "<table border=\"1\" class=\"dataframe\">\n",
              "  <thead>\n",
              "    <tr style=\"text-align: right;\">\n",
              "      <th></th>\n",
              "      <th>Name</th>\n",
              "      <th>Platform</th>\n",
              "      <th>Year</th>\n",
              "      <th>Genre</th>\n",
              "      <th>Publisher</th>\n",
              "      <th>NA_Sales</th>\n",
              "      <th>EU_Sales</th>\n",
              "      <th>JP_Sales</th>\n",
              "      <th>Other_Sales</th>\n",
              "    </tr>\n",
              "  </thead>\n",
              "  <tbody>\n",
              "    <tr>\n",
              "      <th>81</th>\n",
              "      <td>Treasures of the Deep</td>\n",
              "      <td>PS</td>\n",
              "      <td>1997.0</td>\n",
              "      <td>Action</td>\n",
              "      <td>Namco Bandai Games</td>\n",
              "      <td>0.1</td>\n",
              "      <td>0.07</td>\n",
              "      <td>0.00</td>\n",
              "      <td>0.01</td>\n",
              "    </tr>\n",
              "    <tr>\n",
              "      <th>82</th>\n",
              "      <td>Mobile Suit Gundam: Perfect One Year War</td>\n",
              "      <td>PS</td>\n",
              "      <td>1997.0</td>\n",
              "      <td>Strategy</td>\n",
              "      <td>Namco Bandai Games</td>\n",
              "      <td>0.0</td>\n",
              "      <td>0.00</td>\n",
              "      <td>0.14</td>\n",
              "      <td>0.01</td>\n",
              "    </tr>\n",
              "  </tbody>\n",
              "</table>\n",
              "</div>"
            ],
            "text/plain": [
              "                                        Name Platform  ...  JP_Sales Other_Sales\n",
              "81                     Treasures of the Deep       PS  ...      0.00        0.01\n",
              "82  Mobile Suit Gundam: Perfect One Year War       PS  ...      0.14        0.01\n",
              "\n",
              "[2 rows x 9 columns]"
            ]
          },
          "metadata": {
            "tags": []
          },
          "execution_count": 5
        }
      ]
    },
    {
      "cell_type": "markdown",
      "metadata": {
        "id": "3ZBwEARc2qV9"
      },
      "source": [
        "**결측치 확인**"
      ]
    },
    {
      "cell_type": "code",
      "metadata": {
        "colab": {
          "base_uri": "https://localhost:8080/"
        },
        "id": "A-IFO4GMzjp6",
        "outputId": "f6fbe9fe-5bec-48fe-8e53-48c225068562"
      },
      "source": [
        "df.isnull().sum()"
      ],
      "execution_count": 6,
      "outputs": [
        {
          "output_type": "execute_result",
          "data": {
            "text/plain": [
              "Name             0\n",
              "Platform         0\n",
              "Year           271\n",
              "Genre           50\n",
              "Publisher       58\n",
              "NA_Sales         0\n",
              "EU_Sales         0\n",
              "JP_Sales         0\n",
              "Other_Sales      0\n",
              "dtype: int64"
            ]
          },
          "metadata": {
            "tags": []
          },
          "execution_count": 6
        }
      ]
    },
    {
      "cell_type": "code",
      "metadata": {
        "colab": {
          "base_uri": "https://localhost:8080/"
        },
        "id": "ykXT2eYX577m",
        "outputId": "8c089b2d-3602-4811-c92a-b7270d13a7a8"
      },
      "source": [
        "df['Year'].fillna(0,inplace=True)\n",
        "df[df['Year'] == 0].shape"
      ],
      "execution_count": 7,
      "outputs": [
        {
          "output_type": "execute_result",
          "data": {
            "text/plain": [
              "(271, 9)"
            ]
          },
          "metadata": {
            "tags": []
          },
          "execution_count": 7
        }
      ]
    },
    {
      "cell_type": "code",
      "metadata": {
        "colab": {
          "base_uri": "https://localhost:8080/"
        },
        "id": "X0zGE-gW8T33",
        "outputId": "5d5043aa-2575-4b94-d032-8588acc23b26"
      },
      "source": [
        "df['Publisher'].replace(np.nan,'Unknown', inplace = True)\n",
        "df[df['Publisher'] == 'Unknown'].shape"
      ],
      "execution_count": 8,
      "outputs": [
        {
          "output_type": "execute_result",
          "data": {
            "text/plain": [
              "(261, 9)"
            ]
          },
          "metadata": {
            "tags": []
          },
          "execution_count": 8
        }
      ]
    },
    {
      "cell_type": "code",
      "metadata": {
        "colab": {
          "base_uri": "https://localhost:8080/"
        },
        "id": "q59hGH-x3Tgw",
        "outputId": "1bd18aa8-2f86-46d4-a9c4-28e8f8be6b6d"
      },
      "source": [
        "df['Genre'].replace(np.nan, 'Unknown', regex = True, inplace = True)\n",
        "df[df['Genre'] == 'Unknown'].shape"
      ],
      "execution_count": 9,
      "outputs": [
        {
          "output_type": "execute_result",
          "data": {
            "text/plain": [
              "(50, 9)"
            ]
          },
          "metadata": {
            "tags": []
          },
          "execution_count": 9
        }
      ]
    },
    {
      "cell_type": "code",
      "metadata": {
        "id": "SMTLfS_2_VmY"
      },
      "source": [
        "indexn1 = df[df['Year'] == 0].index\n",
        "df.drop(indexn1, inplace = True)\n",
        "\n",
        "indexn2 = df[df['Publisher'] == 'Unknown'].index\n",
        "df.drop(indexn2, inplace = True)\n",
        "\n",
        "indexn3 = df[df['Genre'] == 'Unknown'].index\n",
        "df.drop(indexn3, inplace = True)"
      ],
      "execution_count": 10,
      "outputs": []
    },
    {
      "cell_type": "markdown",
      "metadata": {
        "id": "t1YHBVk7268x"
      },
      "source": [
        "**중복 열 삭제**"
      ]
    },
    {
      "cell_type": "code",
      "metadata": {
        "id": "3DPI9c8g1V6q"
      },
      "source": [
        "df.drop_duplicates(keep=False,inplace=True)"
      ],
      "execution_count": 11,
      "outputs": []
    },
    {
      "cell_type": "markdown",
      "metadata": {
        "id": "KtvLTYhIS3u8"
      },
      "source": [
        "**Outlier 확인**"
      ]
    },
    {
      "cell_type": "code",
      "metadata": {
        "colab": {
          "base_uri": "https://localhost:8080/"
        },
        "id": "1W3cXEdcOdrp",
        "outputId": "46f53195-3954-4220-d8ea-1199e0cc9e0c"
      },
      "source": [
        "max_thres = df.loc[:,'NA_Sales':].apply(lambda x : x.quantile(0.999))\n",
        "max_thres"
      ],
      "execution_count": 12,
      "outputs": [
        {
          "output_type": "execute_result",
          "data": {
            "text/plain": [
              "NA_Sales       9.52449\n",
              "EU_Sales       6.03462\n",
              "JP_Sales       4.13000\n",
              "Other_Sales    2.05000\n",
              "dtype: float64"
            ]
          },
          "metadata": {
            "tags": []
          },
          "execution_count": 12
        }
      ]
    },
    {
      "cell_type": "code",
      "metadata": {
        "id": "YT5bVbztRodw",
        "colab": {
          "base_uri": "https://localhost:8080/"
        },
        "outputId": "143620c5-660e-44da-87dc-1e4c72333708"
      },
      "source": [
        "#outlier 없는 것으로 결정\n",
        "print(df[df['NA_Sales']>9.47455].sort_values(by='NA_Sales',ascending=False).head())\n",
        "print(df[df['EU_Sales']>6.03462].sort_values(by='EU_Sales',ascending=False).head())\n",
        "print(df[df['JP_Sales']>4.13000].sort_values(by='JP_Sales',ascending=False).head())\n",
        "print(df[df['Other_Sales']>2.05000].sort_values(by='Other_Sales',ascending=False).head())\n"
      ],
      "execution_count": 33,
      "outputs": [
        {
          "output_type": "stream",
          "text": [
            "                    Name Platform    Year  ... JP_Sales Other_Sales    sum\n",
            "2908          Wii Sports      Wii  2006.0  ...     3.77        8.46  82.74\n",
            "4199   Super Mario Bros.      NES  1985.0  ...     6.81        0.77  40.24\n",
            "10488          Duck Hunt      NES  1984.0  ...     0.28        0.47  28.31\n",
            "1203              Tetris       GB  1989.0  ...     4.22        0.58  30.26\n",
            "12579     Mario Kart Wii      Wii  2008.0  ...     3.79        3.31  35.83\n",
            "\n",
            "[5 rows x 10 columns]\n",
            "                     Name Platform    Year  ... JP_Sales Other_Sales    sum\n",
            "2908           Wii Sports      Wii  2006.0  ...     3.77        8.46  82.74\n",
            "12579      Mario Kart Wii      Wii  2008.0  ...     3.79        3.31  35.83\n",
            "3352    Wii Sports Resort      Wii  2009.0  ...     3.28        2.96  33.00\n",
            "11137          Nintendogs       DS  2005.0  ...     1.93        2.75  24.75\n",
            "3483   Grand Theft Auto V      PS3  2013.0  ...     0.97        4.14  21.39\n",
            "\n",
            "[5 rows x 10 columns]\n",
            "                                Name Platform  ...  Other_Sales    sum\n",
            "7829        Pokemon Red/Pokemon Blue       GB  ...         1.00  31.38\n",
            "9416     Pokemon Gold/Pokemon Silver       GB  ...         0.71  23.09\n",
            "4199               Super Mario Bros.      NES  ...         0.77  40.24\n",
            "6937           New Super Mario Bros.       DS  ...         2.90  30.01\n",
            "10555  Pokemon Diamond/Pokemon Pearl       DS  ...         1.37  18.35\n",
            "\n",
            "[5 rows x 10 columns]\n",
            "                                Name Platform  ...  Other_Sales    sum\n",
            "14669  Grand Theft Auto: San Andreas      PS2  ...        10.57  20.81\n",
            "2908                      Wii Sports      Wii  ...         8.46  82.74\n",
            "14665                 Gran Turismo 4      PS2  ...         7.53  11.65\n",
            "3483              Grand Theft Auto V      PS3  ...         4.14  21.39\n",
            "12579                 Mario Kart Wii      Wii  ...         3.31  35.83\n",
            "\n",
            "[5 rows x 10 columns]\n"
          ],
          "name": "stdout"
        }
      ]
    },
    {
      "cell_type": "markdown",
      "metadata": {
        "id": "C4DTAe0a3Hlf"
      },
      "source": [
        "\n",
        "\n",
        "---\n",
        "\n",
        "\n",
        "\n",
        "---\n",
        "\n"
      ]
    },
    {
      "cell_type": "markdown",
      "metadata": {
        "id": "Ce0EfS0tzsEb"
      },
      "source": [
        "### 1. 지역에 따라 선호하는 게임 장르가 다른가?\n"
      ]
    },
    {
      "cell_type": "code",
      "metadata": {
        "colab": {
          "base_uri": "https://localhost:8080/",
          "height": 313
        },
        "id": "9Gfn11shdXjq",
        "outputId": "f49ae109-bb8b-45f5-a608-ffa123f82551"
      },
      "source": [
        "#1990년도 이후 지역의 장르별 출고량의 합\n",
        "df_ge = df[df['Year']>=1990]\n",
        "df_ge = df_ge.groupby('Genre')[['NA_Sales', 'EU_Sales', 'JP_Sales','Other_Sales']].sum()\n",
        "\n",
        "format_dict = {'NA_Sales':'{:.2f}','EU_Sales':'{:.2f}','JP_Sales':'{:.2f}','Other_Sales':'{:.2f}'}\n",
        "df_ge.style.format(format_dict).bar(['NA_Sales','EU_Sales','JP_Sales','Other_Sales'],color='lightblue',align='left')"
      ],
      "execution_count": 13,
      "outputs": [
        {
          "output_type": "execute_result",
          "data": {
            "text/html": [
              "<style  type=\"text/css\" >\n",
              "#T_914deef0_f3e7_11eb_be6b_0242ac1c0002row0_col0,#T_914deef0_f3e7_11eb_be6b_0242ac1c0002row0_col1,#T_914deef0_f3e7_11eb_be6b_0242ac1c0002row0_col3,#T_914deef0_f3e7_11eb_be6b_0242ac1c0002row7_col2{\n",
              "            width:  10em;\n",
              "             height:  80%;\n",
              "            background:  linear-gradient(90deg,lightblue 100.0%, transparent 100.0%);\n",
              "        }#T_914deef0_f3e7_11eb_be6b_0242ac1c0002row0_col2{\n",
              "            width:  10em;\n",
              "             height:  80%;\n",
              "            background:  linear-gradient(90deg,lightblue 38.7%, transparent 38.7%);\n",
              "        }#T_914deef0_f3e7_11eb_be6b_0242ac1c0002row1_col0{\n",
              "            width:  10em;\n",
              "             height:  80%;\n",
              "            background:  linear-gradient(90deg,lightblue 4.1%, transparent 4.1%);\n",
              "        }#T_914deef0_f3e7_11eb_be6b_0242ac1c0002row1_col1{\n",
              "            width:  10em;\n",
              "             height:  80%;\n",
              "            background:  linear-gradient(90deg,lightblue 4.0%, transparent 4.0%);\n",
              "        }#T_914deef0_f3e7_11eb_be6b_0242ac1c0002row1_col2{\n",
              "            width:  10em;\n",
              "             height:  80%;\n",
              "            background:  linear-gradient(90deg,lightblue 5.7%, transparent 5.7%);\n",
              "        }#T_914deef0_f3e7_11eb_be6b_0242ac1c0002row1_col3{\n",
              "            width:  10em;\n",
              "             height:  80%;\n",
              "            background:  linear-gradient(90deg,lightblue 3.1%, transparent 3.1%);\n",
              "        }#T_914deef0_f3e7_11eb_be6b_0242ac1c0002row2_col0{\n",
              "            width:  10em;\n",
              "             height:  80%;\n",
              "            background:  linear-gradient(90deg,lightblue 19.8%, transparent 19.8%);\n",
              "        }#T_914deef0_f3e7_11eb_be6b_0242ac1c0002row2_col1,#T_914deef0_f3e7_11eb_be6b_0242ac1c0002row9_col3{\n",
              "            width:  10em;\n",
              "             height:  80%;\n",
              "            background:  linear-gradient(90deg,lightblue 11.7%, transparent 11.7%);\n",
              "        }#T_914deef0_f3e7_11eb_be6b_0242ac1c0002row2_col2{\n",
              "            width:  10em;\n",
              "             height:  80%;\n",
              "            background:  linear-gradient(90deg,lightblue 17.3%, transparent 17.3%);\n",
              "        }#T_914deef0_f3e7_11eb_be6b_0242ac1c0002row2_col3{\n",
              "            width:  10em;\n",
              "             height:  80%;\n",
              "            background:  linear-gradient(90deg,lightblue 14.4%, transparent 14.4%);\n",
              "        }#T_914deef0_f3e7_11eb_be6b_0242ac1c0002row3_col0{\n",
              "            width:  10em;\n",
              "             height:  80%;\n",
              "            background:  linear-gradient(90deg,lightblue 42.9%, transparent 42.9%);\n",
              "        }#T_914deef0_f3e7_11eb_be6b_0242ac1c0002row3_col1{\n",
              "            width:  10em;\n",
              "             height:  80%;\n",
              "            background:  linear-gradient(90deg,lightblue 35.0%, transparent 35.0%);\n",
              "        }#T_914deef0_f3e7_11eb_be6b_0242ac1c0002row3_col2{\n",
              "            width:  10em;\n",
              "             height:  80%;\n",
              "            background:  linear-gradient(90deg,lightblue 22.4%, transparent 22.4%);\n",
              "        }#T_914deef0_f3e7_11eb_be6b_0242ac1c0002row3_col3{\n",
              "            width:  10em;\n",
              "             height:  80%;\n",
              "            background:  linear-gradient(90deg,lightblue 35.6%, transparent 35.6%);\n",
              "        }#T_914deef0_f3e7_11eb_be6b_0242ac1c0002row4_col0{\n",
              "            width:  10em;\n",
              "             height:  80%;\n",
              "            background:  linear-gradient(90deg,lightblue 40.3%, transparent 40.3%);\n",
              "        }#T_914deef0_f3e7_11eb_be6b_0242ac1c0002row4_col1{\n",
              "            width:  10em;\n",
              "             height:  80%;\n",
              "            background:  linear-gradient(90deg,lightblue 30.7%, transparent 30.7%);\n",
              "        }#T_914deef0_f3e7_11eb_be6b_0242ac1c0002row4_col2{\n",
              "            width:  10em;\n",
              "             height:  80%;\n",
              "            background:  linear-gradient(90deg,lightblue 22.0%, transparent 22.0%);\n",
              "        }#T_914deef0_f3e7_11eb_be6b_0242ac1c0002row4_col3{\n",
              "            width:  10em;\n",
              "             height:  80%;\n",
              "            background:  linear-gradient(90deg,lightblue 22.1%, transparent 22.1%);\n",
              "        }#T_914deef0_f3e7_11eb_be6b_0242ac1c0002row5_col0{\n",
              "            width:  10em;\n",
              "             height:  80%;\n",
              "            background:  linear-gradient(90deg,lightblue 1.3%, transparent 1.3%);\n",
              "        }#T_914deef0_f3e7_11eb_be6b_0242ac1c0002row5_col1,#T_914deef0_f3e7_11eb_be6b_0242ac1c0002row5_col3{\n",
              "            width:  10em;\n",
              "             height:  80%;\n",
              "            background:  linear-gradient(90deg,lightblue 0.0%, transparent 0.0%);\n",
              "        }#T_914deef0_f3e7_11eb_be6b_0242ac1c0002row5_col2{\n",
              "            width:  10em;\n",
              "             height:  80%;\n",
              "            background:  linear-gradient(90deg,lightblue 3.7%, transparent 3.7%);\n",
              "        }#T_914deef0_f3e7_11eb_be6b_0242ac1c0002row6_col0{\n",
              "            width:  10em;\n",
              "             height:  80%;\n",
              "            background:  linear-gradient(90deg,lightblue 37.2%, transparent 37.2%);\n",
              "        }#T_914deef0_f3e7_11eb_be6b_0242ac1c0002row6_col1{\n",
              "            width:  10em;\n",
              "             height:  80%;\n",
              "            background:  linear-gradient(90deg,lightblue 40.5%, transparent 40.5%);\n",
              "        }#T_914deef0_f3e7_11eb_be6b_0242ac1c0002row6_col2{\n",
              "            width:  10em;\n",
              "             height:  80%;\n",
              "            background:  linear-gradient(90deg,lightblue 6.5%, transparent 6.5%);\n",
              "        }#T_914deef0_f3e7_11eb_be6b_0242ac1c0002row6_col3{\n",
              "            width:  10em;\n",
              "             height:  80%;\n",
              "            background:  linear-gradient(90deg,lightblue 37.6%, transparent 37.6%);\n",
              "        }#T_914deef0_f3e7_11eb_be6b_0242ac1c0002row7_col0{\n",
              "            width:  10em;\n",
              "             height:  80%;\n",
              "            background:  linear-gradient(90deg,lightblue 33.1%, transparent 33.1%);\n",
              "        }#T_914deef0_f3e7_11eb_be6b_0242ac1c0002row7_col1{\n",
              "            width:  10em;\n",
              "             height:  80%;\n",
              "            background:  linear-gradient(90deg,lightblue 29.7%, transparent 29.7%);\n",
              "        }#T_914deef0_f3e7_11eb_be6b_0242ac1c0002row7_col3{\n",
              "            width:  10em;\n",
              "             height:  80%;\n",
              "            background:  linear-gradient(90deg,lightblue 25.5%, transparent 25.5%);\n",
              "        }#T_914deef0_f3e7_11eb_be6b_0242ac1c0002row8_col0{\n",
              "            width:  10em;\n",
              "             height:  80%;\n",
              "            background:  linear-gradient(90deg,lightblue 60.6%, transparent 60.6%);\n",
              "        }#T_914deef0_f3e7_11eb_be6b_0242ac1c0002row8_col1{\n",
              "            width:  10em;\n",
              "             height:  80%;\n",
              "            background:  linear-gradient(90deg,lightblue 56.6%, transparent 56.6%);\n",
              "        }#T_914deef0_f3e7_11eb_be6b_0242ac1c0002row8_col2,#T_914deef0_f3e7_11eb_be6b_0242ac1c0002row11_col0,#T_914deef0_f3e7_11eb_be6b_0242ac1c0002row11_col1,#T_914deef0_f3e7_11eb_be6b_0242ac1c0002row11_col3{\n",
              "            width:  10em;\n",
              "             height:  80%;\n",
              "        }#T_914deef0_f3e7_11eb_be6b_0242ac1c0002row8_col3{\n",
              "            width:  10em;\n",
              "             height:  80%;\n",
              "            background:  linear-gradient(90deg,lightblue 52.2%, transparent 52.2%);\n",
              "        }#T_914deef0_f3e7_11eb_be6b_0242ac1c0002row9_col0{\n",
              "            width:  10em;\n",
              "             height:  80%;\n",
              "            background:  linear-gradient(90deg,lightblue 15.0%, transparent 15.0%);\n",
              "        }#T_914deef0_f3e7_11eb_be6b_0242ac1c0002row9_col1{\n",
              "            width:  10em;\n",
              "             height:  80%;\n",
              "            background:  linear-gradient(90deg,lightblue 14.7%, transparent 14.7%);\n",
              "        }#T_914deef0_f3e7_11eb_be6b_0242ac1c0002row9_col2{\n",
              "            width:  10em;\n",
              "             height:  80%;\n",
              "            background:  linear-gradient(90deg,lightblue 10.4%, transparent 10.4%);\n",
              "        }#T_914deef0_f3e7_11eb_be6b_0242ac1c0002row10_col0{\n",
              "            width:  10em;\n",
              "             height:  80%;\n",
              "            background:  linear-gradient(90deg,lightblue 78.2%, transparent 78.2%);\n",
              "        }#T_914deef0_f3e7_11eb_be6b_0242ac1c0002row10_col1{\n",
              "            width:  10em;\n",
              "             height:  80%;\n",
              "            background:  linear-gradient(90deg,lightblue 69.7%, transparent 69.7%);\n",
              "        }#T_914deef0_f3e7_11eb_be6b_0242ac1c0002row10_col2{\n",
              "            width:  10em;\n",
              "             height:  80%;\n",
              "            background:  linear-gradient(90deg,lightblue 28.3%, transparent 28.3%);\n",
              "        }#T_914deef0_f3e7_11eb_be6b_0242ac1c0002row10_col3{\n",
              "            width:  10em;\n",
              "             height:  80%;\n",
              "            background:  linear-gradient(90deg,lightblue 70.1%, transparent 70.1%);\n",
              "        }#T_914deef0_f3e7_11eb_be6b_0242ac1c0002row11_col2{\n",
              "            width:  10em;\n",
              "             height:  80%;\n",
              "            background:  linear-gradient(90deg,lightblue 5.5%, transparent 5.5%);\n",
              "        }</style><table id=\"T_914deef0_f3e7_11eb_be6b_0242ac1c0002\" ><thead>    <tr>        <th class=\"blank level0\" ></th>        <th class=\"col_heading level0 col0\" >NA_Sales</th>        <th class=\"col_heading level0 col1\" >EU_Sales</th>        <th class=\"col_heading level0 col2\" >JP_Sales</th>        <th class=\"col_heading level0 col3\" >Other_Sales</th>    </tr>    <tr>        <th class=\"index_name level0\" >Genre</th>        <th class=\"blank\" ></th>        <th class=\"blank\" ></th>        <th class=\"blank\" ></th>        <th class=\"blank\" ></th>    </tr></thead><tbody>\n",
              "                <tr>\n",
              "                        <th id=\"T_914deef0_f3e7_11eb_be6b_0242ac1c0002level0_row0\" class=\"row_heading level0 row0\" >Action</th>\n",
              "                        <td id=\"T_914deef0_f3e7_11eb_be6b_0242ac1c0002row0_col0\" class=\"data row0 col0\" >819.86</td>\n",
              "                        <td id=\"T_914deef0_f3e7_11eb_be6b_0242ac1c0002row0_col1\" class=\"data row0 col1\" >508.77</td>\n",
              "                        <td id=\"T_914deef0_f3e7_11eb_be6b_0242ac1c0002row0_col2\" class=\"data row0 col2\" >147.31</td>\n",
              "                        <td id=\"T_914deef0_f3e7_11eb_be6b_0242ac1c0002row0_col3\" class=\"data row0 col3\" >183.32</td>\n",
              "            </tr>\n",
              "            <tr>\n",
              "                        <th id=\"T_914deef0_f3e7_11eb_be6b_0242ac1c0002level0_row1\" class=\"row_heading level0 row1\" >Adventure</th>\n",
              "                        <td id=\"T_914deef0_f3e7_11eb_be6b_0242ac1c0002row1_col0\" class=\"data row1 col0\" >98.87</td>\n",
              "                        <td id=\"T_914deef0_f3e7_11eb_be6b_0242ac1c0002row1_col1\" class=\"data row1 col1\" >63.06</td>\n",
              "                        <td id=\"T_914deef0_f3e7_11eb_be6b_0242ac1c0002row1_col2\" class=\"data row1 col2\" >49.87</td>\n",
              "                        <td id=\"T_914deef0_f3e7_11eb_be6b_0242ac1c0002row1_col3\" class=\"data row1 col3\" >16.60</td>\n",
              "            </tr>\n",
              "            <tr>\n",
              "                        <th id=\"T_914deef0_f3e7_11eb_be6b_0242ac1c0002level0_row2\" class=\"row_heading level0 row2\" >Fighting</th>\n",
              "                        <td id=\"T_914deef0_f3e7_11eb_be6b_0242ac1c0002row2_col0\" class=\"data row2 col0\" >216.83</td>\n",
              "                        <td id=\"T_914deef0_f3e7_11eb_be6b_0242ac1c0002row2_col1\" class=\"data row2 col1\" >99.21</td>\n",
              "                        <td id=\"T_914deef0_f3e7_11eb_be6b_0242ac1c0002row2_col2\" class=\"data row2 col2\" >84.18</td>\n",
              "                        <td id=\"T_914deef0_f3e7_11eb_be6b_0242ac1c0002row2_col3\" class=\"data row2 col3\" >36.04</td>\n",
              "            </tr>\n",
              "            <tr>\n",
              "                        <th id=\"T_914deef0_f3e7_11eb_be6b_0242ac1c0002level0_row3\" class=\"row_heading level0 row3\" >Misc</th>\n",
              "                        <td id=\"T_914deef0_f3e7_11eb_be6b_0242ac1c0002row3_col0\" class=\"data row3 col0\" >390.29</td>\n",
              "                        <td id=\"T_914deef0_f3e7_11eb_be6b_0242ac1c0002row3_col1\" class=\"data row3 col1\" >207.23</td>\n",
              "                        <td id=\"T_914deef0_f3e7_11eb_be6b_0242ac1c0002row3_col2\" class=\"data row3 col2\" >99.23</td>\n",
              "                        <td id=\"T_914deef0_f3e7_11eb_be6b_0242ac1c0002row3_col3\" class=\"data row3 col3\" >72.44</td>\n",
              "            </tr>\n",
              "            <tr>\n",
              "                        <th id=\"T_914deef0_f3e7_11eb_be6b_0242ac1c0002level0_row4\" class=\"row_heading level0 row4\" >Platform</th>\n",
              "                        <td id=\"T_914deef0_f3e7_11eb_be6b_0242ac1c0002row4_col0\" class=\"data row4 col0\" >370.94</td>\n",
              "                        <td id=\"T_914deef0_f3e7_11eb_be6b_0242ac1c0002row4_col1\" class=\"data row4 col1\" >187.21</td>\n",
              "                        <td id=\"T_914deef0_f3e7_11eb_be6b_0242ac1c0002row4_col2\" class=\"data row4 col2\" >98.08</td>\n",
              "                        <td id=\"T_914deef0_f3e7_11eb_be6b_0242ac1c0002row4_col3\" class=\"data row4 col3\" >49.20</td>\n",
              "            </tr>\n",
              "            <tr>\n",
              "                        <th id=\"T_914deef0_f3e7_11eb_be6b_0242ac1c0002level0_row5\" class=\"row_heading level0 row5\" >Puzzle</th>\n",
              "                        <td id=\"T_914deef0_f3e7_11eb_be6b_0242ac1c0002row5_col0\" class=\"data row5 col0\" >77.63</td>\n",
              "                        <td id=\"T_914deef0_f3e7_11eb_be6b_0242ac1c0002row5_col1\" class=\"data row5 col1\" >44.80</td>\n",
              "                        <td id=\"T_914deef0_f3e7_11eb_be6b_0242ac1c0002row5_col2\" class=\"data row5 col2\" >43.71</td>\n",
              "                        <td id=\"T_914deef0_f3e7_11eb_be6b_0242ac1c0002row5_col3\" class=\"data row5 col3\" >11.26</td>\n",
              "            </tr>\n",
              "            <tr>\n",
              "                        <th id=\"T_914deef0_f3e7_11eb_be6b_0242ac1c0002level0_row6\" class=\"row_heading level0 row6\" >Racing</th>\n",
              "                        <td id=\"T_914deef0_f3e7_11eb_be6b_0242ac1c0002row6_col0\" class=\"data row6 col0\" >347.80</td>\n",
              "                        <td id=\"T_914deef0_f3e7_11eb_be6b_0242ac1c0002row6_col1\" class=\"data row6 col1\" >232.54</td>\n",
              "                        <td id=\"T_914deef0_f3e7_11eb_be6b_0242ac1c0002row6_col2\" class=\"data row6 col2\" >52.21</td>\n",
              "                        <td id=\"T_914deef0_f3e7_11eb_be6b_0242ac1c0002row6_col3\" class=\"data row6 col3\" >75.94</td>\n",
              "            </tr>\n",
              "            <tr>\n",
              "                        <th id=\"T_914deef0_f3e7_11eb_be6b_0242ac1c0002level0_row7\" class=\"row_heading level0 row7\" >Role-Playing</th>\n",
              "                        <td id=\"T_914deef0_f3e7_11eb_be6b_0242ac1c0002row7_col0\" class=\"data row7 col0\" >316.40</td>\n",
              "                        <td id=\"T_914deef0_f3e7_11eb_be6b_0242ac1c0002row7_col1\" class=\"data row7 col1\" >182.63</td>\n",
              "                        <td id=\"T_914deef0_f3e7_11eb_be6b_0242ac1c0002row7_col2\" class=\"data row7 col2\" >328.91</td>\n",
              "                        <td id=\"T_914deef0_f3e7_11eb_be6b_0242ac1c0002row7_col3\" class=\"data row7 col3\" >55.03</td>\n",
              "            </tr>\n",
              "            <tr>\n",
              "                        <th id=\"T_914deef0_f3e7_11eb_be6b_0242ac1c0002level0_row8\" class=\"row_heading level0 row8\" >Shooter</th>\n",
              "                        <td id=\"T_914deef0_f3e7_11eb_be6b_0242ac1c0002row8_col0\" class=\"data row8 col0\" >523.43</td>\n",
              "                        <td id=\"T_914deef0_f3e7_11eb_be6b_0242ac1c0002row8_col1\" class=\"data row8 col1\" >307.37</td>\n",
              "                        <td id=\"T_914deef0_f3e7_11eb_be6b_0242ac1c0002row8_col2\" class=\"data row8 col2\" >32.88</td>\n",
              "                        <td id=\"T_914deef0_f3e7_11eb_be6b_0242ac1c0002row8_col3\" class=\"data row8 col3\" >101.05</td>\n",
              "            </tr>\n",
              "            <tr>\n",
              "                        <th id=\"T_914deef0_f3e7_11eb_be6b_0242ac1c0002level0_row9\" class=\"row_heading level0 row9\" >Simulation</th>\n",
              "                        <td id=\"T_914deef0_f3e7_11eb_be6b_0242ac1c0002row9_col0\" class=\"data row9 col0\" >180.98</td>\n",
              "                        <td id=\"T_914deef0_f3e7_11eb_be6b_0242ac1c0002row9_col1\" class=\"data row9 col1\" >112.82</td>\n",
              "                        <td id=\"T_914deef0_f3e7_11eb_be6b_0242ac1c0002row9_col2\" class=\"data row9 col2\" >63.54</td>\n",
              "                        <td id=\"T_914deef0_f3e7_11eb_be6b_0242ac1c0002row9_col3\" class=\"data row9 col3\" >31.29</td>\n",
              "            </tr>\n",
              "            <tr>\n",
              "                        <th id=\"T_914deef0_f3e7_11eb_be6b_0242ac1c0002level0_row10\" class=\"row_heading level0 row10\" >Sports</th>\n",
              "                        <td id=\"T_914deef0_f3e7_11eb_be6b_0242ac1c0002row10_col0\" class=\"data row10 col0\" >655.68</td>\n",
              "                        <td id=\"T_914deef0_f3e7_11eb_be6b_0242ac1c0002row10_col1\" class=\"data row10 col1\" >368.36</td>\n",
              "                        <td id=\"T_914deef0_f3e7_11eb_be6b_0242ac1c0002row10_col2\" class=\"data row10 col2\" >116.56</td>\n",
              "                        <td id=\"T_914deef0_f3e7_11eb_be6b_0242ac1c0002row10_col3\" class=\"data row10 col3\" >131.87</td>\n",
              "            </tr>\n",
              "            <tr>\n",
              "                        <th id=\"T_914deef0_f3e7_11eb_be6b_0242ac1c0002level0_row11\" class=\"row_heading level0 row11\" >Strategy</th>\n",
              "                        <td id=\"T_914deef0_f3e7_11eb_be6b_0242ac1c0002row11_col0\" class=\"data row11 col0\" >67.83</td>\n",
              "                        <td id=\"T_914deef0_f3e7_11eb_be6b_0242ac1c0002row11_col1\" class=\"data row11 col1\" >44.72</td>\n",
              "                        <td id=\"T_914deef0_f3e7_11eb_be6b_0242ac1c0002row11_col2\" class=\"data row11 col2\" >49.10</td>\n",
              "                        <td id=\"T_914deef0_f3e7_11eb_be6b_0242ac1c0002row11_col3\" class=\"data row11 col3\" >11.22</td>\n",
              "            </tr>\n",
              "    </tbody></table>"
            ],
            "text/plain": [
              "<pandas.io.formats.style.Styler at 0x7fd6f4f7ec50>"
            ]
          },
          "metadata": {
            "tags": []
          },
          "execution_count": 13
        }
      ]
    },
    {
      "cell_type": "markdown",
      "metadata": {
        "id": "OgMeZVwuEzg8"
      },
      "source": [
        "**Chai-squared test(two-sample)**\n",
        "- Null: 장르별 게임 구매비율은 지역과 무관하다.\n",
        "- Alternative: 장르별 게임 구매 비율이 지역과 관련이 있다.\n",
        "\n",
        "> 지역에따라 선호하는 게임의 장르는 서로 연관이 있다.\n",
        "\n"
      ]
    },
    {
      "cell_type": "code",
      "metadata": {
        "colab": {
          "base_uri": "https://localhost:8080/"
        },
        "id": "GCzW3NQ_79-6",
        "outputId": "6ab098f8-89df-43ea-e0b7-0129f2ce05f3"
      },
      "source": [
        "df_g = df_ge.astype('category')\n",
        "chi2, p, dof, expected = chi2_contingency(df_g)\n",
        "print('chai2:',chi2)\n",
        "print('P-value:',p)"
      ],
      "execution_count": 14,
      "outputs": [
        {
          "output_type": "stream",
          "text": [
            "chai2: 670.2992763144568\n",
            "P-value: 7.814372265368355e-120\n"
          ],
          "name": "stdout"
        }
      ]
    },
    {
      "cell_type": "markdown",
      "metadata": {
        "id": "7OGpY3Dr5QeD"
      },
      "source": [
        "일본을 제외했을 때에는 지역에 따라 선호하는 게임 장르는 다를까?\n",
        "- Null: 장르별 게임 구매비율은 지역과 무관하다.\n",
        "- Alternative: 장르별 게임 구매 비율이 지역과 관련이 있다.\n",
        "\n",
        "> 장르별 게임 구매비율은 지역과 무관하다."
      ]
    },
    {
      "cell_type": "code",
      "metadata": {
        "colab": {
          "base_uri": "https://localhost:8080/"
        },
        "id": "EhFOmGRLwAaq",
        "outputId": "b052e6ac-1082-4073-895f-3d274f3e414b"
      },
      "source": [
        "ex_j=df_ge.drop('JP_Sales',axis=1)\n",
        "ex_j = ex_j.astype('category')\n",
        "chi2, p, dof, expected = chi2_contingency(ex_j)\n",
        "print('chai2:',chi2)\n",
        "print('P-value:',p)"
      ],
      "execution_count": 15,
      "outputs": [
        {
          "output_type": "stream",
          "text": [
            "chai2: 23.883390575896726\n",
            "P-value: 0.35337147615606257\n"
          ],
          "name": "stdout"
        }
      ]
    },
    {
      "cell_type": "code",
      "metadata": {
        "colab": {
          "base_uri": "https://localhost:8080/",
          "height": 313
        },
        "id": "45yrugJmf8IS",
        "outputId": "f4a3a017-09f8-4840-8f1f-d136dbd94011"
      },
      "source": [
        "format_dict1 = {'NA_Sales':'{:.2f}','EU_Sales':'{:.2f}','Other_Sales':'{:.2f}'}\n",
        "ex_j.style.format(format_dict1).bar(['NA_Sales','EU_Sales','Other_Sales'],color='lightblue',align='left')"
      ],
      "execution_count": 16,
      "outputs": [
        {
          "output_type": "execute_result",
          "data": {
            "text/html": [
              "<style  type=\"text/css\" >\n",
              "#T_9502afd6_f3e7_11eb_be6b_0242ac1c0002row0_col0,#T_9502afd6_f3e7_11eb_be6b_0242ac1c0002row0_col1,#T_9502afd6_f3e7_11eb_be6b_0242ac1c0002row0_col2{\n",
              "            width:  10em;\n",
              "             height:  80%;\n",
              "            background:  linear-gradient(90deg,lightblue 100.0%, transparent 100.0%);\n",
              "        }#T_9502afd6_f3e7_11eb_be6b_0242ac1c0002row1_col0{\n",
              "            width:  10em;\n",
              "             height:  80%;\n",
              "            background:  linear-gradient(90deg,lightblue 4.1%, transparent 4.1%);\n",
              "        }#T_9502afd6_f3e7_11eb_be6b_0242ac1c0002row1_col1{\n",
              "            width:  10em;\n",
              "             height:  80%;\n",
              "            background:  linear-gradient(90deg,lightblue 4.0%, transparent 4.0%);\n",
              "        }#T_9502afd6_f3e7_11eb_be6b_0242ac1c0002row1_col2{\n",
              "            width:  10em;\n",
              "             height:  80%;\n",
              "            background:  linear-gradient(90deg,lightblue 3.1%, transparent 3.1%);\n",
              "        }#T_9502afd6_f3e7_11eb_be6b_0242ac1c0002row2_col0{\n",
              "            width:  10em;\n",
              "             height:  80%;\n",
              "            background:  linear-gradient(90deg,lightblue 19.8%, transparent 19.8%);\n",
              "        }#T_9502afd6_f3e7_11eb_be6b_0242ac1c0002row2_col1,#T_9502afd6_f3e7_11eb_be6b_0242ac1c0002row9_col2{\n",
              "            width:  10em;\n",
              "             height:  80%;\n",
              "            background:  linear-gradient(90deg,lightblue 11.7%, transparent 11.7%);\n",
              "        }#T_9502afd6_f3e7_11eb_be6b_0242ac1c0002row2_col2{\n",
              "            width:  10em;\n",
              "             height:  80%;\n",
              "            background:  linear-gradient(90deg,lightblue 14.4%, transparent 14.4%);\n",
              "        }#T_9502afd6_f3e7_11eb_be6b_0242ac1c0002row3_col0{\n",
              "            width:  10em;\n",
              "             height:  80%;\n",
              "            background:  linear-gradient(90deg,lightblue 42.9%, transparent 42.9%);\n",
              "        }#T_9502afd6_f3e7_11eb_be6b_0242ac1c0002row3_col1{\n",
              "            width:  10em;\n",
              "             height:  80%;\n",
              "            background:  linear-gradient(90deg,lightblue 35.0%, transparent 35.0%);\n",
              "        }#T_9502afd6_f3e7_11eb_be6b_0242ac1c0002row3_col2{\n",
              "            width:  10em;\n",
              "             height:  80%;\n",
              "            background:  linear-gradient(90deg,lightblue 35.6%, transparent 35.6%);\n",
              "        }#T_9502afd6_f3e7_11eb_be6b_0242ac1c0002row4_col0{\n",
              "            width:  10em;\n",
              "             height:  80%;\n",
              "            background:  linear-gradient(90deg,lightblue 40.3%, transparent 40.3%);\n",
              "        }#T_9502afd6_f3e7_11eb_be6b_0242ac1c0002row4_col1{\n",
              "            width:  10em;\n",
              "             height:  80%;\n",
              "            background:  linear-gradient(90deg,lightblue 30.7%, transparent 30.7%);\n",
              "        }#T_9502afd6_f3e7_11eb_be6b_0242ac1c0002row4_col2{\n",
              "            width:  10em;\n",
              "             height:  80%;\n",
              "            background:  linear-gradient(90deg,lightblue 22.1%, transparent 22.1%);\n",
              "        }#T_9502afd6_f3e7_11eb_be6b_0242ac1c0002row5_col0{\n",
              "            width:  10em;\n",
              "             height:  80%;\n",
              "            background:  linear-gradient(90deg,lightblue 1.3%, transparent 1.3%);\n",
              "        }#T_9502afd6_f3e7_11eb_be6b_0242ac1c0002row5_col1,#T_9502afd6_f3e7_11eb_be6b_0242ac1c0002row5_col2{\n",
              "            width:  10em;\n",
              "             height:  80%;\n",
              "            background:  linear-gradient(90deg,lightblue 0.0%, transparent 0.0%);\n",
              "        }#T_9502afd6_f3e7_11eb_be6b_0242ac1c0002row6_col0{\n",
              "            width:  10em;\n",
              "             height:  80%;\n",
              "            background:  linear-gradient(90deg,lightblue 37.2%, transparent 37.2%);\n",
              "        }#T_9502afd6_f3e7_11eb_be6b_0242ac1c0002row6_col1{\n",
              "            width:  10em;\n",
              "             height:  80%;\n",
              "            background:  linear-gradient(90deg,lightblue 40.5%, transparent 40.5%);\n",
              "        }#T_9502afd6_f3e7_11eb_be6b_0242ac1c0002row6_col2{\n",
              "            width:  10em;\n",
              "             height:  80%;\n",
              "            background:  linear-gradient(90deg,lightblue 37.6%, transparent 37.6%);\n",
              "        }#T_9502afd6_f3e7_11eb_be6b_0242ac1c0002row7_col0{\n",
              "            width:  10em;\n",
              "             height:  80%;\n",
              "            background:  linear-gradient(90deg,lightblue 33.1%, transparent 33.1%);\n",
              "        }#T_9502afd6_f3e7_11eb_be6b_0242ac1c0002row7_col1{\n",
              "            width:  10em;\n",
              "             height:  80%;\n",
              "            background:  linear-gradient(90deg,lightblue 29.7%, transparent 29.7%);\n",
              "        }#T_9502afd6_f3e7_11eb_be6b_0242ac1c0002row7_col2{\n",
              "            width:  10em;\n",
              "             height:  80%;\n",
              "            background:  linear-gradient(90deg,lightblue 25.5%, transparent 25.5%);\n",
              "        }#T_9502afd6_f3e7_11eb_be6b_0242ac1c0002row8_col0{\n",
              "            width:  10em;\n",
              "             height:  80%;\n",
              "            background:  linear-gradient(90deg,lightblue 60.6%, transparent 60.6%);\n",
              "        }#T_9502afd6_f3e7_11eb_be6b_0242ac1c0002row8_col1{\n",
              "            width:  10em;\n",
              "             height:  80%;\n",
              "            background:  linear-gradient(90deg,lightblue 56.6%, transparent 56.6%);\n",
              "        }#T_9502afd6_f3e7_11eb_be6b_0242ac1c0002row8_col2{\n",
              "            width:  10em;\n",
              "             height:  80%;\n",
              "            background:  linear-gradient(90deg,lightblue 52.2%, transparent 52.2%);\n",
              "        }#T_9502afd6_f3e7_11eb_be6b_0242ac1c0002row9_col0{\n",
              "            width:  10em;\n",
              "             height:  80%;\n",
              "            background:  linear-gradient(90deg,lightblue 15.0%, transparent 15.0%);\n",
              "        }#T_9502afd6_f3e7_11eb_be6b_0242ac1c0002row9_col1{\n",
              "            width:  10em;\n",
              "             height:  80%;\n",
              "            background:  linear-gradient(90deg,lightblue 14.7%, transparent 14.7%);\n",
              "        }#T_9502afd6_f3e7_11eb_be6b_0242ac1c0002row10_col0{\n",
              "            width:  10em;\n",
              "             height:  80%;\n",
              "            background:  linear-gradient(90deg,lightblue 78.2%, transparent 78.2%);\n",
              "        }#T_9502afd6_f3e7_11eb_be6b_0242ac1c0002row10_col1{\n",
              "            width:  10em;\n",
              "             height:  80%;\n",
              "            background:  linear-gradient(90deg,lightblue 69.7%, transparent 69.7%);\n",
              "        }#T_9502afd6_f3e7_11eb_be6b_0242ac1c0002row10_col2{\n",
              "            width:  10em;\n",
              "             height:  80%;\n",
              "            background:  linear-gradient(90deg,lightblue 70.1%, transparent 70.1%);\n",
              "        }#T_9502afd6_f3e7_11eb_be6b_0242ac1c0002row11_col0,#T_9502afd6_f3e7_11eb_be6b_0242ac1c0002row11_col1,#T_9502afd6_f3e7_11eb_be6b_0242ac1c0002row11_col2{\n",
              "            width:  10em;\n",
              "             height:  80%;\n",
              "        }</style><table id=\"T_9502afd6_f3e7_11eb_be6b_0242ac1c0002\" ><thead>    <tr>        <th class=\"blank level0\" ></th>        <th class=\"col_heading level0 col0\" >NA_Sales</th>        <th class=\"col_heading level0 col1\" >EU_Sales</th>        <th class=\"col_heading level0 col2\" >Other_Sales</th>    </tr>    <tr>        <th class=\"index_name level0\" >Genre</th>        <th class=\"blank\" ></th>        <th class=\"blank\" ></th>        <th class=\"blank\" ></th>    </tr></thead><tbody>\n",
              "                <tr>\n",
              "                        <th id=\"T_9502afd6_f3e7_11eb_be6b_0242ac1c0002level0_row0\" class=\"row_heading level0 row0\" >Action</th>\n",
              "                        <td id=\"T_9502afd6_f3e7_11eb_be6b_0242ac1c0002row0_col0\" class=\"data row0 col0\" >819.86</td>\n",
              "                        <td id=\"T_9502afd6_f3e7_11eb_be6b_0242ac1c0002row0_col1\" class=\"data row0 col1\" >508.77</td>\n",
              "                        <td id=\"T_9502afd6_f3e7_11eb_be6b_0242ac1c0002row0_col2\" class=\"data row0 col2\" >183.32</td>\n",
              "            </tr>\n",
              "            <tr>\n",
              "                        <th id=\"T_9502afd6_f3e7_11eb_be6b_0242ac1c0002level0_row1\" class=\"row_heading level0 row1\" >Adventure</th>\n",
              "                        <td id=\"T_9502afd6_f3e7_11eb_be6b_0242ac1c0002row1_col0\" class=\"data row1 col0\" >98.87</td>\n",
              "                        <td id=\"T_9502afd6_f3e7_11eb_be6b_0242ac1c0002row1_col1\" class=\"data row1 col1\" >63.06</td>\n",
              "                        <td id=\"T_9502afd6_f3e7_11eb_be6b_0242ac1c0002row1_col2\" class=\"data row1 col2\" >16.60</td>\n",
              "            </tr>\n",
              "            <tr>\n",
              "                        <th id=\"T_9502afd6_f3e7_11eb_be6b_0242ac1c0002level0_row2\" class=\"row_heading level0 row2\" >Fighting</th>\n",
              "                        <td id=\"T_9502afd6_f3e7_11eb_be6b_0242ac1c0002row2_col0\" class=\"data row2 col0\" >216.83</td>\n",
              "                        <td id=\"T_9502afd6_f3e7_11eb_be6b_0242ac1c0002row2_col1\" class=\"data row2 col1\" >99.21</td>\n",
              "                        <td id=\"T_9502afd6_f3e7_11eb_be6b_0242ac1c0002row2_col2\" class=\"data row2 col2\" >36.04</td>\n",
              "            </tr>\n",
              "            <tr>\n",
              "                        <th id=\"T_9502afd6_f3e7_11eb_be6b_0242ac1c0002level0_row3\" class=\"row_heading level0 row3\" >Misc</th>\n",
              "                        <td id=\"T_9502afd6_f3e7_11eb_be6b_0242ac1c0002row3_col0\" class=\"data row3 col0\" >390.29</td>\n",
              "                        <td id=\"T_9502afd6_f3e7_11eb_be6b_0242ac1c0002row3_col1\" class=\"data row3 col1\" >207.23</td>\n",
              "                        <td id=\"T_9502afd6_f3e7_11eb_be6b_0242ac1c0002row3_col2\" class=\"data row3 col2\" >72.44</td>\n",
              "            </tr>\n",
              "            <tr>\n",
              "                        <th id=\"T_9502afd6_f3e7_11eb_be6b_0242ac1c0002level0_row4\" class=\"row_heading level0 row4\" >Platform</th>\n",
              "                        <td id=\"T_9502afd6_f3e7_11eb_be6b_0242ac1c0002row4_col0\" class=\"data row4 col0\" >370.94</td>\n",
              "                        <td id=\"T_9502afd6_f3e7_11eb_be6b_0242ac1c0002row4_col1\" class=\"data row4 col1\" >187.21</td>\n",
              "                        <td id=\"T_9502afd6_f3e7_11eb_be6b_0242ac1c0002row4_col2\" class=\"data row4 col2\" >49.20</td>\n",
              "            </tr>\n",
              "            <tr>\n",
              "                        <th id=\"T_9502afd6_f3e7_11eb_be6b_0242ac1c0002level0_row5\" class=\"row_heading level0 row5\" >Puzzle</th>\n",
              "                        <td id=\"T_9502afd6_f3e7_11eb_be6b_0242ac1c0002row5_col0\" class=\"data row5 col0\" >77.63</td>\n",
              "                        <td id=\"T_9502afd6_f3e7_11eb_be6b_0242ac1c0002row5_col1\" class=\"data row5 col1\" >44.80</td>\n",
              "                        <td id=\"T_9502afd6_f3e7_11eb_be6b_0242ac1c0002row5_col2\" class=\"data row5 col2\" >11.26</td>\n",
              "            </tr>\n",
              "            <tr>\n",
              "                        <th id=\"T_9502afd6_f3e7_11eb_be6b_0242ac1c0002level0_row6\" class=\"row_heading level0 row6\" >Racing</th>\n",
              "                        <td id=\"T_9502afd6_f3e7_11eb_be6b_0242ac1c0002row6_col0\" class=\"data row6 col0\" >347.80</td>\n",
              "                        <td id=\"T_9502afd6_f3e7_11eb_be6b_0242ac1c0002row6_col1\" class=\"data row6 col1\" >232.54</td>\n",
              "                        <td id=\"T_9502afd6_f3e7_11eb_be6b_0242ac1c0002row6_col2\" class=\"data row6 col2\" >75.94</td>\n",
              "            </tr>\n",
              "            <tr>\n",
              "                        <th id=\"T_9502afd6_f3e7_11eb_be6b_0242ac1c0002level0_row7\" class=\"row_heading level0 row7\" >Role-Playing</th>\n",
              "                        <td id=\"T_9502afd6_f3e7_11eb_be6b_0242ac1c0002row7_col0\" class=\"data row7 col0\" >316.40</td>\n",
              "                        <td id=\"T_9502afd6_f3e7_11eb_be6b_0242ac1c0002row7_col1\" class=\"data row7 col1\" >182.63</td>\n",
              "                        <td id=\"T_9502afd6_f3e7_11eb_be6b_0242ac1c0002row7_col2\" class=\"data row7 col2\" >55.03</td>\n",
              "            </tr>\n",
              "            <tr>\n",
              "                        <th id=\"T_9502afd6_f3e7_11eb_be6b_0242ac1c0002level0_row8\" class=\"row_heading level0 row8\" >Shooter</th>\n",
              "                        <td id=\"T_9502afd6_f3e7_11eb_be6b_0242ac1c0002row8_col0\" class=\"data row8 col0\" >523.43</td>\n",
              "                        <td id=\"T_9502afd6_f3e7_11eb_be6b_0242ac1c0002row8_col1\" class=\"data row8 col1\" >307.37</td>\n",
              "                        <td id=\"T_9502afd6_f3e7_11eb_be6b_0242ac1c0002row8_col2\" class=\"data row8 col2\" >101.05</td>\n",
              "            </tr>\n",
              "            <tr>\n",
              "                        <th id=\"T_9502afd6_f3e7_11eb_be6b_0242ac1c0002level0_row9\" class=\"row_heading level0 row9\" >Simulation</th>\n",
              "                        <td id=\"T_9502afd6_f3e7_11eb_be6b_0242ac1c0002row9_col0\" class=\"data row9 col0\" >180.98</td>\n",
              "                        <td id=\"T_9502afd6_f3e7_11eb_be6b_0242ac1c0002row9_col1\" class=\"data row9 col1\" >112.82</td>\n",
              "                        <td id=\"T_9502afd6_f3e7_11eb_be6b_0242ac1c0002row9_col2\" class=\"data row9 col2\" >31.29</td>\n",
              "            </tr>\n",
              "            <tr>\n",
              "                        <th id=\"T_9502afd6_f3e7_11eb_be6b_0242ac1c0002level0_row10\" class=\"row_heading level0 row10\" >Sports</th>\n",
              "                        <td id=\"T_9502afd6_f3e7_11eb_be6b_0242ac1c0002row10_col0\" class=\"data row10 col0\" >655.68</td>\n",
              "                        <td id=\"T_9502afd6_f3e7_11eb_be6b_0242ac1c0002row10_col1\" class=\"data row10 col1\" >368.36</td>\n",
              "                        <td id=\"T_9502afd6_f3e7_11eb_be6b_0242ac1c0002row10_col2\" class=\"data row10 col2\" >131.87</td>\n",
              "            </tr>\n",
              "            <tr>\n",
              "                        <th id=\"T_9502afd6_f3e7_11eb_be6b_0242ac1c0002level0_row11\" class=\"row_heading level0 row11\" >Strategy</th>\n",
              "                        <td id=\"T_9502afd6_f3e7_11eb_be6b_0242ac1c0002row11_col0\" class=\"data row11 col0\" >67.83</td>\n",
              "                        <td id=\"T_9502afd6_f3e7_11eb_be6b_0242ac1c0002row11_col1\" class=\"data row11 col1\" >44.72</td>\n",
              "                        <td id=\"T_9502afd6_f3e7_11eb_be6b_0242ac1c0002row11_col2\" class=\"data row11 col2\" >11.22</td>\n",
              "            </tr>\n",
              "    </tbody></table>"
            ],
            "text/plain": [
              "<pandas.io.formats.style.Styler at 0x7fd6f41b4550>"
            ]
          },
          "metadata": {
            "tags": []
          },
          "execution_count": 16
        }
      ]
    },
    {
      "cell_type": "markdown",
      "metadata": {
        "id": "S69qXqmh7Xal"
      },
      "source": [
        "\n",
        "\n",
        "---\n",
        "\n"
      ]
    },
    {
      "cell_type": "markdown",
      "metadata": {
        "id": "e8pRhhbO7Zeu"
      },
      "source": [
        "### 2. 연도별 게임 트랜드가 있나?"
      ]
    },
    {
      "cell_type": "markdown",
      "metadata": {
        "id": "OoUPzD7njcw7"
      },
      "source": [
        "  1. 장르"
      ]
    },
    {
      "cell_type": "code",
      "metadata": {
        "colab": {
          "base_uri": "https://localhost:8080/",
          "height": 235
        },
        "id": "4TWuWWA_KoS-",
        "outputId": "3e464f83-cd1d-4389-a7e2-6a68df18a6b0"
      },
      "source": [
        "#연도별 장르별 출고량의 합\n",
        "genre = df.groupby(['Year','Genre'])[['NA_Sales', 'EU_Sales', 'JP_Sales','Other_Sales']].sum().reset_index()\n",
        "genre['Total'] = genre.iloc[:,2:5].sum(axis=1)\n",
        "\n",
        "#1990년도 부터의 장르별 트랜드\n",
        "genre90 = genre[genre['Year']>=1990].drop(['NA_Sales', 'EU_Sales', 'JP_Sales','Other_Sales'],axis=1)\n",
        "\n",
        "wide1 = genre90.pivot_table(index='Year',columns='Genre',values='Total')\n",
        "wide1 = wide1.fillna(0)\n",
        "wide1.head()"
      ],
      "execution_count": 17,
      "outputs": [
        {
          "output_type": "execute_result",
          "data": {
            "text/html": [
              "<div>\n",
              "<style scoped>\n",
              "    .dataframe tbody tr th:only-of-type {\n",
              "        vertical-align: middle;\n",
              "    }\n",
              "\n",
              "    .dataframe tbody tr th {\n",
              "        vertical-align: top;\n",
              "    }\n",
              "\n",
              "    .dataframe thead th {\n",
              "        text-align: right;\n",
              "    }\n",
              "</style>\n",
              "<table border=\"1\" class=\"dataframe\">\n",
              "  <thead>\n",
              "    <tr style=\"text-align: right;\">\n",
              "      <th>Genre</th>\n",
              "      <th>Action</th>\n",
              "      <th>Adventure</th>\n",
              "      <th>Fighting</th>\n",
              "      <th>Misc</th>\n",
              "      <th>Platform</th>\n",
              "      <th>Puzzle</th>\n",
              "      <th>Racing</th>\n",
              "      <th>Role-Playing</th>\n",
              "      <th>Shooter</th>\n",
              "      <th>Simulation</th>\n",
              "      <th>Sports</th>\n",
              "      <th>Strategy</th>\n",
              "    </tr>\n",
              "    <tr>\n",
              "      <th>Year</th>\n",
              "      <th></th>\n",
              "      <th></th>\n",
              "      <th></th>\n",
              "      <th></th>\n",
              "      <th></th>\n",
              "      <th></th>\n",
              "      <th></th>\n",
              "      <th></th>\n",
              "      <th></th>\n",
              "      <th></th>\n",
              "      <th></th>\n",
              "      <th></th>\n",
              "    </tr>\n",
              "  </thead>\n",
              "  <tbody>\n",
              "    <tr>\n",
              "      <th>1990.0</th>\n",
              "      <td>6.25</td>\n",
              "      <td>0.00</td>\n",
              "      <td>0.00</td>\n",
              "      <td>0.00</td>\n",
              "      <td>22.41</td>\n",
              "      <td>5.86</td>\n",
              "      <td>5.78</td>\n",
              "      <td>4.50</td>\n",
              "      <td>0.00</td>\n",
              "      <td>1.11</td>\n",
              "      <td>2.06</td>\n",
              "      <td>0.00</td>\n",
              "    </tr>\n",
              "    <tr>\n",
              "      <th>1991.0</th>\n",
              "      <td>6.61</td>\n",
              "      <td>2.20</td>\n",
              "      <td>0.39</td>\n",
              "      <td>0.08</td>\n",
              "      <td>7.46</td>\n",
              "      <td>3.13</td>\n",
              "      <td>1.10</td>\n",
              "      <td>3.14</td>\n",
              "      <td>1.94</td>\n",
              "      <td>2.11</td>\n",
              "      <td>2.39</td>\n",
              "      <td>0.94</td>\n",
              "    </tr>\n",
              "    <tr>\n",
              "      <th>1992.0</th>\n",
              "      <td>3.71</td>\n",
              "      <td>11.95</td>\n",
              "      <td>14.91</td>\n",
              "      <td>4.82</td>\n",
              "      <td>13.07</td>\n",
              "      <td>4.76</td>\n",
              "      <td>8.87</td>\n",
              "      <td>6.83</td>\n",
              "      <td>0.28</td>\n",
              "      <td>2.04</td>\n",
              "      <td>2.90</td>\n",
              "      <td>0.35</td>\n",
              "    </tr>\n",
              "    <tr>\n",
              "      <th>1993.0</th>\n",
              "      <td>1.78</td>\n",
              "      <td>0.07</td>\n",
              "      <td>8.66</td>\n",
              "      <td>0.30</td>\n",
              "      <td>18.03</td>\n",
              "      <td>3.14</td>\n",
              "      <td>0.36</td>\n",
              "      <td>5.57</td>\n",
              "      <td>3.01</td>\n",
              "      <td>0.19</td>\n",
              "      <td>3.18</td>\n",
              "      <td>0.81</td>\n",
              "    </tr>\n",
              "    <tr>\n",
              "      <th>1994.0</th>\n",
              "      <td>1.53</td>\n",
              "      <td>3.74</td>\n",
              "      <td>8.27</td>\n",
              "      <td>2.76</td>\n",
              "      <td>27.63</td>\n",
              "      <td>1.53</td>\n",
              "      <td>2.13</td>\n",
              "      <td>7.09</td>\n",
              "      <td>7.95</td>\n",
              "      <td>2.67</td>\n",
              "      <td>8.28</td>\n",
              "      <td>3.44</td>\n",
              "    </tr>\n",
              "  </tbody>\n",
              "</table>\n",
              "</div>"
            ],
            "text/plain": [
              "Genre   Action  Adventure  Fighting  ...  Simulation  Sports  Strategy\n",
              "Year                                 ...                              \n",
              "1990.0    6.25       0.00      0.00  ...        1.11    2.06      0.00\n",
              "1991.0    6.61       2.20      0.39  ...        2.11    2.39      0.94\n",
              "1992.0    3.71      11.95     14.91  ...        2.04    2.90      0.35\n",
              "1993.0    1.78       0.07      8.66  ...        0.19    3.18      0.81\n",
              "1994.0    1.53       3.74      8.27  ...        2.67    8.28      3.44\n",
              "\n",
              "[5 rows x 12 columns]"
            ]
          },
          "metadata": {
            "tags": []
          },
          "execution_count": 17
        }
      ]
    },
    {
      "cell_type": "markdown",
      "metadata": {
        "id": "ad8uJ-fKiAsb"
      },
      "source": [
        "- **Chai-squared test(two-sample)**\n",
        "  - Null: 연도와 장르는 서로 독립적이다.\n",
        "  - Alternative: 연도와 장르는 서로 연관이 있다.\n",
        "\n",
        "> 연도와 장르는 서로 연관이 있다."
      ]
    },
    {
      "cell_type": "code",
      "metadata": {
        "colab": {
          "base_uri": "https://localhost:8080/"
        },
        "id": "WpkP6EMBPkmp",
        "outputId": "614b4d85-47de-4296-dbdd-c1b18b97ee2b"
      },
      "source": [
        "df_ygsum = wide1.astype('category')\n",
        "chi2, p, dof, expected = chi2_contingency(df_ygsum)\n",
        "print('chai2:',chi2)\n",
        "print('P-value:',p)"
      ],
      "execution_count": 18,
      "outputs": [
        {
          "output_type": "stream",
          "text": [
            "chai2: 1649.0525735090107\n",
            "P-value: 7.562444702664735e-182\n"
          ],
          "name": "stdout"
        }
      ]
    },
    {
      "cell_type": "code",
      "metadata": {
        "colab": {
          "base_uri": "https://localhost:8080/",
          "height": 813
        },
        "id": "gXu_MbKoRfRA",
        "outputId": "6d8341c2-cad0-42e7-bd85-4de29b915ee5"
      },
      "source": [
        "\n",
        "#연도별 출고량이 가장 많은 장르\n",
        "genre_top = genre90.sort_values('Total').drop_duplicates('Year',keep='last')\n",
        "\n",
        "#그래프\n",
        "x = genre_top['Year']\n",
        "y = genre_top['Total']\n",
        "hue = genre_top['Genre']\n",
        "\n",
        "fig, ax = plt.subplots(figsize=(10, 5))\n",
        "ax = sns.barplot(x,y,hue,dodge=False)\n",
        "ax.set_title('연도별 출고량 Top1 장르')\n",
        "plt.xticks(rotation=90)\n",
        "plt.show()\n",
        "\n",
        "#2000년 이후 연도별 출고량이 많은 top2 장르\n",
        "genre_top1 = genre90[genre90['Year']>=2000]\n",
        "genre_top1 = genre_top1.groupby('Year').apply(lambda x: x.nlargest(2, 'Total')).reset_index(drop=True)\n",
        "\n",
        "#그래프\n",
        "x1 = genre_top1['Year']\n",
        "y1 = genre_top1['Total']\n",
        "hue1 = genre_top1['Genre']\n",
        "\n",
        "fig, ax = plt.subplots(figsize=(20, 5))\n",
        "ax = sns.barplot(x1,y1,hue1,data=genre_top1)\n",
        "ax.set_title('2000년 연도별 이후 출고량 Top2 장르')\n",
        "plt.xticks(rotation=90)\n",
        "\n",
        "def change_width(ax, new_value) :\n",
        "    for patch in ax.patches :\n",
        "        current_width = patch.get_width()\n",
        "        diff = current_width - new_value\n",
        "\n",
        "        patch.set_width(new_value)\n",
        "\n",
        "        patch.set_x(patch.get_x() + diff * .5)\n",
        "\n",
        "change_width(ax, .2)\n",
        "plt.show()"
      ],
      "execution_count": 19,
      "outputs": [
        {
          "output_type": "stream",
          "text": [
            "/usr/local/lib/python3.7/dist-packages/seaborn/_decorators.py:43: FutureWarning: Pass the following variables as keyword args: x, y, hue. From version 0.12, the only valid positional argument will be `data`, and passing other arguments without an explicit keyword will result in an error or misinterpretation.\n",
            "  FutureWarning\n"
          ],
          "name": "stderr"
        },
        {
          "output_type": "display_data",
          "data": {
            "image/png": "[encoded data removed]",
            "text/plain": [
              "<Figure size 720x360 with 1 Axes>"
            ]
          },
          "metadata": {
            "tags": [],
            "needs_background": "light"
          }
        },
        {
          "output_type": "stream",
          "text": [
            "/usr/local/lib/python3.7/dist-packages/seaborn/_decorators.py:43: FutureWarning: Pass the following variables as keyword args: x, y, hue. From version 0.12, the only valid positional argument will be `data`, and passing other arguments without an explicit keyword will result in an error or misinterpretation.\n",
            "  FutureWarning\n"
          ],
          "name": "stderr"
        },
        {
          "output_type": "display_data",
          "data": {
            "image/png": "[encoded data removed]",
            "text/plain": [
              "<Figure size 1440x360 with 1 Axes>"
            ]
          },
          "metadata": {
            "tags": [],
            "needs_background": "light"
          }
        }
      ]
    },
    {
      "cell_type": "markdown",
      "metadata": {
        "id": "03jFHveOSc4j"
      },
      "source": [
        "\n",
        "\n",
        "---\n",
        "\n"
      ]
    },
    {
      "cell_type": "markdown",
      "metadata": {
        "id": "7C5fPkqRSlSv"
      },
      "source": [
        "### 3. 출고량이 높은 게임"
      ]
    },
    {
      "cell_type": "code",
      "metadata": {
        "colab": {
          "base_uri": "https://localhost:8080/",
          "height": 419
        },
        "id": "YI4sptwTSbOc",
        "outputId": "5e5fec29-5787-448f-9f01-8fe31404e568"
      },
      "source": [
        "df['sum'] = df.iloc[:,5:9].sum(axis=1)\n",
        "df_top = df[df['Year']>=1990].sort_values(['sum'],ascending=False).reset_index(drop=True).head(300)\n",
        "df_top"
      ],
      "execution_count": 20,
      "outputs": [
        {
          "output_type": "execute_result",
          "data": {
            "text/html": [
              "<div>\n",
              "<style scoped>\n",
              "    .dataframe tbody tr th:only-of-type {\n",
              "        vertical-align: middle;\n",
              "    }\n",
              "\n",
              "    .dataframe tbody tr th {\n",
              "        vertical-align: top;\n",
              "    }\n",
              "\n",
              "    .dataframe thead th {\n",
              "        text-align: right;\n",
              "    }\n",
              "</style>\n",
              "<table border=\"1\" class=\"dataframe\">\n",
              "  <thead>\n",
              "    <tr style=\"text-align: right;\">\n",
              "      <th></th>\n",
              "      <th>Name</th>\n",
              "      <th>Platform</th>\n",
              "      <th>Year</th>\n",
              "      <th>Genre</th>\n",
              "      <th>Publisher</th>\n",
              "      <th>NA_Sales</th>\n",
              "      <th>EU_Sales</th>\n",
              "      <th>JP_Sales</th>\n",
              "      <th>Other_Sales</th>\n",
              "      <th>sum</th>\n",
              "    </tr>\n",
              "  </thead>\n",
              "  <tbody>\n",
              "    <tr>\n",
              "      <th>0</th>\n",
              "      <td>Wii Sports</td>\n",
              "      <td>Wii</td>\n",
              "      <td>2006.0</td>\n",
              "      <td>Sports</td>\n",
              "      <td>Nintendo</td>\n",
              "      <td>41.49</td>\n",
              "      <td>29.02</td>\n",
              "      <td>3.77</td>\n",
              "      <td>8.46</td>\n",
              "      <td>82.74</td>\n",
              "    </tr>\n",
              "    <tr>\n",
              "      <th>1</th>\n",
              "      <td>Mario Kart Wii</td>\n",
              "      <td>Wii</td>\n",
              "      <td>2008.0</td>\n",
              "      <td>Racing</td>\n",
              "      <td>Nintendo</td>\n",
              "      <td>15.85</td>\n",
              "      <td>12.88</td>\n",
              "      <td>3.79</td>\n",
              "      <td>3.31</td>\n",
              "      <td>35.83</td>\n",
              "    </tr>\n",
              "    <tr>\n",
              "      <th>2</th>\n",
              "      <td>Wii Sports Resort</td>\n",
              "      <td>Wii</td>\n",
              "      <td>2009.0</td>\n",
              "      <td>Sports</td>\n",
              "      <td>Nintendo</td>\n",
              "      <td>15.75</td>\n",
              "      <td>11.01</td>\n",
              "      <td>3.28</td>\n",
              "      <td>2.96</td>\n",
              "      <td>33.00</td>\n",
              "    </tr>\n",
              "    <tr>\n",
              "      <th>3</th>\n",
              "      <td>Pokemon Red/Pokemon Blue</td>\n",
              "      <td>GB</td>\n",
              "      <td>1996.0</td>\n",
              "      <td>Role-Playing</td>\n",
              "      <td>Nintendo</td>\n",
              "      <td>11.27</td>\n",
              "      <td>8.89</td>\n",
              "      <td>10.22</td>\n",
              "      <td>1.00</td>\n",
              "      <td>31.38</td>\n",
              "    </tr>\n",
              "    <tr>\n",
              "      <th>4</th>\n",
              "      <td>New Super Mario Bros.</td>\n",
              "      <td>DS</td>\n",
              "      <td>2006.0</td>\n",
              "      <td>Platform</td>\n",
              "      <td>Nintendo</td>\n",
              "      <td>11.38</td>\n",
              "      <td>9.23</td>\n",
              "      <td>6.50</td>\n",
              "      <td>2.90</td>\n",
              "      <td>30.01</td>\n",
              "    </tr>\n",
              "    <tr>\n",
              "      <th>...</th>\n",
              "      <td>...</td>\n",
              "      <td>...</td>\n",
              "      <td>...</td>\n",
              "      <td>...</td>\n",
              "      <td>...</td>\n",
              "      <td>...</td>\n",
              "      <td>...</td>\n",
              "      <td>...</td>\n",
              "      <td>...</td>\n",
              "      <td>...</td>\n",
              "    </tr>\n",
              "    <tr>\n",
              "      <th>295</th>\n",
              "      <td>Namco Museum Vol.1</td>\n",
              "      <td>PS</td>\n",
              "      <td>1995.0</td>\n",
              "      <td>Misc</td>\n",
              "      <td>Sony Computer Entertainment</td>\n",
              "      <td>2.12</td>\n",
              "      <td>1.44</td>\n",
              "      <td>0.22</td>\n",
              "      <td>0.06</td>\n",
              "      <td>3.84</td>\n",
              "    </tr>\n",
              "    <tr>\n",
              "      <th>296</th>\n",
              "      <td>Flash Focus: Vision Training in Minutes a Day</td>\n",
              "      <td>DS</td>\n",
              "      <td>2007.0</td>\n",
              "      <td>Misc</td>\n",
              "      <td>Nintendo</td>\n",
              "      <td>0.87</td>\n",
              "      <td>1.57</td>\n",
              "      <td>1.05</td>\n",
              "      <td>0.35</td>\n",
              "      <td>3.84</td>\n",
              "    </tr>\n",
              "    <tr>\n",
              "      <th>297</th>\n",
              "      <td>The Legend of Zelda: Link's Awakening</td>\n",
              "      <td>GB</td>\n",
              "      <td>1992.0</td>\n",
              "      <td>Action</td>\n",
              "      <td>Nintendo</td>\n",
              "      <td>2.21</td>\n",
              "      <td>0.96</td>\n",
              "      <td>0.54</td>\n",
              "      <td>0.13</td>\n",
              "      <td>3.84</td>\n",
              "    </tr>\n",
              "    <tr>\n",
              "      <th>298</th>\n",
              "      <td>Big Brain Academy: Wii Degree</td>\n",
              "      <td>Wii</td>\n",
              "      <td>2007.0</td>\n",
              "      <td>Misc</td>\n",
              "      <td>Nintendo</td>\n",
              "      <td>1.06</td>\n",
              "      <td>1.93</td>\n",
              "      <td>0.41</td>\n",
              "      <td>0.43</td>\n",
              "      <td>3.83</td>\n",
              "    </tr>\n",
              "    <tr>\n",
              "      <th>299</th>\n",
              "      <td>Mario &amp; Luigi: Bowser's Inside Story</td>\n",
              "      <td>DS</td>\n",
              "      <td>2009.0</td>\n",
              "      <td>Role-Playing</td>\n",
              "      <td>Nintendo</td>\n",
              "      <td>2.26</td>\n",
              "      <td>0.48</td>\n",
              "      <td>0.81</td>\n",
              "      <td>0.27</td>\n",
              "      <td>3.82</td>\n",
              "    </tr>\n",
              "  </tbody>\n",
              "</table>\n",
              "<p>300 rows × 10 columns</p>\n",
              "</div>"
            ],
            "text/plain": [
              "                                              Name Platform  ...  Other_Sales    sum\n",
              "0                                       Wii Sports      Wii  ...         8.46  82.74\n",
              "1                                   Mario Kart Wii      Wii  ...         3.31  35.83\n",
              "2                                Wii Sports Resort      Wii  ...         2.96  33.00\n",
              "3                         Pokemon Red/Pokemon Blue       GB  ...         1.00  31.38\n",
              "4                            New Super Mario Bros.       DS  ...         2.90  30.01\n",
              "..                                             ...      ...  ...          ...    ...\n",
              "295                             Namco Museum Vol.1       PS  ...         0.06   3.84\n",
              "296  Flash Focus: Vision Training in Minutes a Day       DS  ...         0.35   3.84\n",
              "297          The Legend of Zelda: Link's Awakening       GB  ...         0.13   3.84\n",
              "298                  Big Brain Academy: Wii Degree      Wii  ...         0.43   3.83\n",
              "299           Mario & Luigi: Bowser's Inside Story       DS  ...         0.27   3.82\n",
              "\n",
              "[300 rows x 10 columns]"
            ]
          },
          "metadata": {
            "tags": []
          },
          "execution_count": 20
        }
      ]
    },
    {
      "cell_type": "code",
      "metadata": {
        "colab": {
          "base_uri": "https://localhost:8080/",
          "height": 423
        },
        "id": "_2M12ZbhAd8n",
        "outputId": "d2ba4d94-05e4-449e-fa2e-e94d3506538a"
      },
      "source": [
        "pie1 = df_top.groupby('Genre')['sum'].sum()\n",
        "#plt.title('장르의 갯수',bbox={'facecolor':'0.8', 'pad':5})\n",
        "plt.pie(pie1, labels=pie1.index, autopct=\"%0.2f%%\", radius = 2)\n",
        "\n",
        "plt.show()\n"
      ],
      "execution_count": 36,
      "outputs": [
        {
          "output_type": "display_data",
          "data": {
            "image/png": "[encoded data removed]",
            "text/plain": [
              "<Figure size 432x288 with 1 Axes>"
            ]
          },
          "metadata": {
            "tags": []
          }
        }
      ]
    },
    {
      "cell_type": "code",
      "metadata": {
        "colab": {
          "base_uri": "https://localhost:8080/",
          "height": 280
        },
        "id": "LUFchxMGiR1K",
        "outputId": "8fab90e5-f97b-4537-bb85-3ced8a787471"
      },
      "source": [
        "#국가별 시장 크기(비율)\n",
        "\n",
        "NA = df['NA_Sales'].sum()/df['sum'].sum()\n",
        "EU = df['EU_Sales'].sum()/df['sum'].sum()\n",
        "JP = df['JP_Sales'].sum()/df['sum'].sum()\n",
        "Oth = df['Other_Sales'].sum()/df['sum'].sum()\n",
        "\n",
        "plt.bar(['NA_Sales','EU_Sales','JP_Saels','Other_Sales'],[NA,EU,JP,Oth])\n",
        "plt.title('국가별 점유율')\n",
        "plt.show()"
      ],
      "execution_count": 22,
      "outputs": [
        {
          "output_type": "display_data",
          "data": {
            "image/png": "[encoded data removed]",
            "text/plain": [
              "<Figure size 432x288 with 1 Axes>"
            ]
          },
          "metadata": {
            "tags": [],
            "needs_background": "light"
          }
        }
      ]
    },
    {
      "cell_type": "markdown",
      "metadata": {
        "id": "7B-KYe6EpYZM"
      },
      "source": [
        "\n",
        "\n",
        "---\n",
        "\n",
        "\n",
        "\n",
        "---\n",
        "\n"
      ]
    },
    {
      "cell_type": "markdown",
      "metadata": {
        "id": "eoPc5RQjASs3"
      },
      "source": [
        "일본을 제외한 지역별 선호 게임 장르는 비슷하다.\n",
        "\n",
        "최근 게임은 Aciont과 Shooter가 인기가 많으며, playsation과 xbox를 플랫폼으로 많이 사용하고있다.\n",
        "\n",
        "비록 출고량이 많은 데이터들 중 Platform이나 Role-Playing장르의 출고량이 많은 것으로 나타나지만, 이는 닌텐도의 영향인 것으로 추정한다. 최근 인기 장르가 많이 변했기 때문에 Action이나 Shooter장르가 인기가 많을 것으로 예상된다. "
      ]
    }
  ]
}